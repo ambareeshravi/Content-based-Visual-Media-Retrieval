{
 "cells": [
  {
   "cell_type": "code",
   "execution_count": 1,
   "metadata": {},
   "outputs": [],
   "source": [
    "def warn(*args, **kwargs):\n",
    "    pass\n",
    "import warnings\n",
    "warnings.warn = warn\n",
    "\n",
    "import cv2\n",
    "import numpy as np\n",
    "import sklearn\n",
    "from glob import glob\n",
    "from tqdm import tqdm\n",
    "import pickle, json\n",
    "import os\n",
    "from random import shuffle\n",
    "from matplotlib import pyplot as plt\n",
    "from scipy.spatial import distance\n",
    "from sklearn.cluster import DBSCAN\n",
    "from tqdm import tqdm"
   ]
  },
  {
   "cell_type": "code",
   "execution_count": null,
   "metadata": {},
   "outputs": [],
   "source": [
    "from keras.applications.mobilenet import MobileNet\n",
    "from keras.models import Model, Sequential\n",
    "from keras.layers import LSTM, Dense, InputLayer"
   ]
  },
  {
   "cell_type": "code",
   "execution_count": 3,
   "metadata": {},
   "outputs": [
    {
     "name": "stderr",
     "output_type": "stream",
     "text": [
      "/home/lk/.local/lib/python3.5/site-packages/ipykernel_launcher.py:2: UserWarning: Update your `Model` call to the Keras 2 API: `Model(inputs=[<tf.Tenso..., outputs=Tensor(\"gl...)`\n",
      "  \n"
     ]
    }
   ],
   "source": [
    "def get_submodel(main_model, output_layer = \"fc1\"):\n",
    "    return Model(inputs=main_model.inputs, output=main_model.get_layer(output_layer).output)\n",
    "\n",
    "mobile_net = MobileNet()\n",
    "mobile_net_submodel = get_submodel(mobile_net, \"global_average_pooling2d_1\")"
   ]
  },
  {
   "cell_type": "code",
   "execution_count": 4,
   "metadata": {},
   "outputs": [],
   "source": [
    "def read_image(image_path):\n",
    "    return cv2.imread(image_path)\n",
    "\n",
    "def resize_image(im_array, resolution = (224,224)):\n",
    "    return cv2.resize(im_array, resolution)\n",
    "\n",
    "def load_images(files_list):\n",
    "    return np.array([read_image(file) for file in files_list])"
   ]
  },
  {
   "cell_type": "code",
   "execution_count": 5,
   "metadata": {},
   "outputs": [],
   "source": [
    "def get_frames_video(video_path, resize_to = (224,224), output_frames = 16):\n",
    "    cap = cv2.VideoCapture(video_path)\n",
    "    read_count = 1\n",
    "    frames_list = list()\n",
    "    frame_total = int(cap.get(cv2.CAP_PROP_FRAME_COUNT))\n",
    "    while cap.isOpened():\n",
    "        isRead, frame = cap.read()\n",
    "        if not isRead: break\n",
    "        if read_count % int(frame_total/output_frames) == 0:\n",
    "            frame = cv2.resize(frame, resize_to)\n",
    "            frames_list.append(frame)\n",
    "        read_count += 1\n",
    "        if len(frames_list) == 16: break\n",
    "    return np.array(frames_list)\n",
    "\n",
    "def get_frame_features(frames_list):\n",
    "    return np.array([np.squeeze(mobile_net_submodel.predict(np.expand_dims(frame, axis=0))) for frame in frames_list])"
   ]
  },
  {
   "cell_type": "code",
   "execution_count": 6,
   "metadata": {},
   "outputs": [],
   "source": [
    "def get_category(idx):\n",
    "    a = np.zeros(3)\n",
    "    a[idx] = 1\n",
    "    return a\n",
    "\n",
    "def prep_data(data_folder  = \"DataSets/KTH/\"):\n",
    "    for folder in os.listdir(data_folder):\n",
    "        with open(folder+\".pkl\", \"wb\") as f:\n",
    "            pickle.dump({'folder': np.array([get_frame_features(get_frames_video(os.path.join(os.path.join(data_folder, folder), file))) for file in os.listdir(os.path.join(data_folder, folder))])}, f)\n",
    "    \n",
    "    classes = ['walking', 'boxing', 'handwaving']\n",
    "    class_id = dict([(cls, get_category(idx)) for idx, cls in enumerate(classes)])\n",
    "    \n",
    "    with open(\"class.json\", \"w\") as f:\n",
    "        json.dump({\"classes\": classes, \"class_id\": class_id}, f)\n",
    "        \n",
    "    trainX, trainY = list(), list()\n",
    "    for cls, label in class_id.items():\n",
    "        with open(cls+\".pkl\", \"rb\") as f:\n",
    "            data_list = pickle.load(f)['folder']\n",
    "        for dl in data_list:\n",
    "            if dl.shape == (16,1024):\n",
    "                trainX.append(dl)\n",
    "                trainY.append(label)\n",
    "    trainX, trainY = np.array(trainX), np.array(trainY)\n",
    "    return classes, class_id, trainX, trainY\n",
    "\n",
    "def get_lstm_model(no_classes = 3, lstm_hidden_units = 100, image_features_size = 1024, step_size = 16, print_summary = False):\n",
    "    lstm_model = Sequential()\n",
    "    lstm_model.add(InputLayer(input_shape = (step_size, image_features_size)))\n",
    "    lstm_model.add(LSTM(lstm_hidden_units))\n",
    "    lstm_model.add(Dense(no_classes))\n",
    "    if print_summary: print(lstm_model.summary())\n",
    "    return lstm_model\n",
    "\n",
    "def train_model(lstm_model, epochs = 20, batch_size = 2, validation_split = 0.1, model_name = \"model_run2.hdf5\"):\n",
    "    lstm_model.compile(loss='mean_squared_error', optimizer='adam') #other losses\n",
    "    lstm_model.fit(trainX, trainY, epochs=epochs, batch_size=batch_size, validation_split=validation_split, shuffle=True, verbose=2)\n",
    "    lstm_model.save(model_name)\n",
    "    \n",
    "def load_model(model_path = \"model_run_1.h5\"):\n",
    "    lstm_model = get_lstm_model()\n",
    "    lstm_model.load_weights(model_path)\n",
    "    return lstm_model\n",
    "\n",
    "def model_predict(lstm_model, file_path, get_class = False):\n",
    "    if get_class:\n",
    "        return classes[np.argmax(lstm_model.predict(np.expand_dims(get_frame_features(get_frames_video(file_path)), axis=0)))]\n",
    "    else: return np.squeeze(lstm_model.predict(np.expand_dims(get_frame_features(get_frames_video(file_path)), axis=0))    )\n",
    "    "
   ]
  },
  {
   "cell_type": "code",
   "execution_count": 7,
   "metadata": {},
   "outputs": [],
   "source": [
    "lstm_model = load_model()"
   ]
  },
  {
   "cell_type": "code",
   "execution_count": null,
   "metadata": {},
   "outputs": [],
   "source": [
    "# do precision and recall"
   ]
  },
  {
   "cell_type": "code",
   "execution_count": 21,
   "metadata": {},
   "outputs": [],
   "source": [
    "def testfile_class(file_name):\n",
    "    return os.path.split(file_name)[-1].split(\"_\")[1]"
   ]
  },
  {
   "cell_type": "code",
   "execution_count": 15,
   "metadata": {},
   "outputs": [
    {
     "name": "stderr",
     "output_type": "stream",
     "text": [
      "/home/lk/.local/lib/python3.5/site-packages/ipykernel_launcher.py:2: UserWarning: Update your `Model` call to the Keras 2 API: `Model(inputs=[<tf.Tenso..., outputs=Tensor(\"ls...)`\n",
      "  \n"
     ]
    }
   ],
   "source": [
    "# creating test set\n",
    "test_path = \"DataSets/KTH/test/\"\n",
    "test_set = list()\n",
    "lstm_sub_model = get_submodel(lstm_model, \"lstm_1\")\n",
    "\n",
    "test_folders = dict([(idx, folder) for idx, folder in enumerate(os.listdir(test_path))])\n",
    "rev_test_folders = dict([(v,k) for k,v in test_folders.items()])\n",
    "\n",
    "for file in glob(test_path + \"*/*\"):\n",
    "    test_set.append(np.array([rev_test_folders[file.split(\"/\")[3]], np.squeeze(model_predict(lstm_sub_model, file))]))\n",
    "\n",
    "test_set = np.array(test_set)"
   ]
  },
  {
   "cell_type": "code",
   "execution_count": 16,
   "metadata": {},
   "outputs": [],
   "source": [
    "with open(\"test_set.pkl\", \"wb\") as f:\n",
    "    pickle.dump(test_set, f)"
   ]
  },
  {
   "cell_type": "code",
   "execution_count": 227,
   "metadata": {},
   "outputs": [],
   "source": [
    "with open(\"test_set.pkl\", \"rb\") as f:\n",
    "    test_set = pickle.load(f)"
   ]
  },
  {
   "cell_type": "code",
   "execution_count": 229,
   "metadata": {},
   "outputs": [],
   "source": [
    "np.random.shuffle(test_set)"
   ]
  },
  {
   "cell_type": "code",
   "execution_count": 231,
   "metadata": {},
   "outputs": [],
   "source": [
    "def squeeze_array(array):\n",
    "    return np.array([np.squeeze(i) for i in array])"
   ]
  },
  {
   "cell_type": "code",
   "execution_count": 232,
   "metadata": {},
   "outputs": [],
   "source": [
    "train_features, train_labels, test_features, test_labels = squeeze_array(test_set[:150][:,1]), squeeze_array(test_set[:150][:,0]), squeeze_array(test_set[150:][:,1]), squeeze_array(test_set[150:][:,0])"
   ]
  },
  {
   "cell_type": "code",
   "execution_count": 368,
   "metadata": {},
   "outputs": [],
   "source": [
    "def run_dbscan(eps, min_samples):\n",
    "    db_scan_clustering = DBSCAN(eps=eps, min_samples = min_samples)\n",
    "    db_scan_clustering.fit(train_features)\n",
    "    return db_scan_clustering, db_scan_clustering.labels_"
   ]
  },
  {
   "cell_type": "code",
   "execution_count": 369,
   "metadata": {},
   "outputs": [
    {
     "name": "stderr",
     "output_type": "stream",
     "text": [
      "100%|██████████| 99/99 [00:37<00:00,  2.66it/s]\n"
     ]
    }
   ],
   "source": [
    "max_eps, max_samples, max_match = 0,0,0\n",
    "for eps in tqdm(range(1,100,1)):\n",
    "    eps = eps/100\n",
    "    for min_samples in range(len(train_features)//3):\n",
    "        dbs, lbl = run_dbscan(eps, min_samples)\n",
    "        exp = np.equal(lbl, train_labels).tolist().count(True)\n",
    "        if max_match < exp:\n",
    "            max_eps = eps\n",
    "            max_samples = min_samples\n",
    "            max_match = exp\n",
    "            good_dbscan = dbs"
   ]
  },
  {
   "cell_type": "code",
   "execution_count": 370,
   "metadata": {},
   "outputs": [
    {
     "data": {
      "text/plain": [
       "DBSCAN(algorithm='auto', eps=0.57, leaf_size=30, metric='euclidean',\n",
       "       metric_params=None, min_samples=0, n_jobs=None, p=None)"
      ]
     },
     "execution_count": 370,
     "metadata": {},
     "output_type": "execute_result"
    }
   ],
   "source": [
    "good_dbscan"
   ]
  },
  {
   "cell_type": "code",
   "execution_count": 372,
   "metadata": {},
   "outputs": [
    {
     "data": {
      "text/plain": [
       "array([0, 1, 1, 1, 0, 1, 0, 0, 0, 0, 1, 1, 0, 0, 2, 1, 1, 0, 1, 1, 1, 1,\n",
       "       0, 1, 0, 0, 1, 1, 2, 1, 1, 1, 1, 0, 0, 1, 1, 0, 0, 2, 1, 1, 1, 0,\n",
       "       0, 1, 1, 1, 0, 0, 0, 0, 1, 0, 1, 1, 1, 1, 2, 1, 1, 0, 1, 1, 1, 0,\n",
       "       1, 0, 1, 0, 0, 1, 1, 1, 0, 1, 1, 1, 2, 1, 1, 1, 1, 1, 0, 1, 1, 1,\n",
       "       0, 1, 1, 1, 1, 1, 0, 2, 1, 1, 1, 0, 0, 1, 0, 1, 0, 0, 1, 1, 1, 1,\n",
       "       1, 0, 0, 1, 0, 0, 1, 2, 1, 1, 1, 1, 0, 1, 0, 1, 1, 1, 1, 2, 1, 0,\n",
       "       1, 1, 0, 2, 0, 0, 1, 0, 0, 1, 0, 0, 0, 1, 0, 0, 0, 0])"
      ]
     },
     "execution_count": 372,
     "metadata": {},
     "output_type": "execute_result"
    }
   ],
   "source": [
    "good_dbscan.labels_"
   ]
  },
  {
   "cell_type": "code",
   "execution_count": 373,
   "metadata": {},
   "outputs": [],
   "source": [
    "def plot_dbscan(dbscan, test_features, test_labels):\n",
    "    y_pred = np.array([np.squeeze(i) for i in dbscan.fit_predict(test_features)])\n",
    "    plt.scatter(test_features[:,-2], test_features[:,-1], c = y_pred, cmap='Paired')\n",
    "    plt.show()"
   ]
  },
  {
   "cell_type": "code",
   "execution_count": 374,
   "metadata": {},
   "outputs": [
    {
     "data": {
      "image/png": "[encoded data removed]",
      "text/plain": [
       "<Figure size 432x288 with 1 Axes>"
      ]
     },
     "metadata": {},
     "output_type": "display_data"
    }
   ],
   "source": [
    "plot_dbscan(good_dbscan, test_features, test_labels)"
   ]
  },
  {
   "cell_type": "code",
   "execution_count": null,
   "metadata": {},
   "outputs": [],
   "source": []
  }
 ],
 "metadata": {
  "kernelspec": {
   "display_name": "Python 3",
   "language": "python",
   "name": "python3"
  },
  "language_info": {
   "codemirror_mode": {
    "name": "ipython",
    "version": 3
   },
   "file_extension": ".py",
   "mimetype": "text/x-python",
   "name": "python",
   "nbconvert_exporter": "python",
   "pygments_lexer": "ipython3",
   "version": "3.6.9"
  }
 },
 "nbformat": 4,
 "nbformat_minor": 4
}
