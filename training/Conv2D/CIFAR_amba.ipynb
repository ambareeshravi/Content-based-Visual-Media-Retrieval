{
 "cells": [
  {
   "cell_type": "code",
   "execution_count": null,
   "metadata": {
    "colab": {},
    "colab_type": "code",
    "id": "TSqnsRW_oOjg"
   },
   "outputs": [],
   "source": [
    "from google.colab import drive"
   ]
  },
  {
   "cell_type": "code",
   "execution_count": null,
   "metadata": {
    "colab": {},
    "colab_type": "code",
    "id": "Nde92y7goV2h"
   },
   "outputs": [],
   "source": [
    "def mount_drive():\n",
    "    drive.mount('/content/drive/')\n",
    "mount_drive()"
   ]
  },
  {
   "cell_type": "code",
   "execution_count": 4,
   "metadata": {
    "colab": {
     "base_uri": "https://localhost:8080/",
     "height": 84
    },
    "colab_type": "code",
    "executionInfo": {
     "elapsed": 1875,
     "status": "ok",
     "timestamp": 1576185154004,
     "user": {
      "displayName": "AMITH NANDAKUMAR",
      "photoUrl": "",
      "userId": "11280641326261564542"
     },
     "user_tz": 240
    },
    "id": "UVAif1L0oaMW",
    "outputId": "5e54315b-4e9c-4e19-a71a-b8354250d7c0"
   },
   "outputs": [
    {
     "name": "stderr",
     "output_type": "stream",
     "text": [
      "Using TensorFlow backend.\n"
     ]
    },
    {
     "data": {
      "text/html": [
       "<p style=\"color: red;\">\n",
       "The default version of TensorFlow in Colab will soon switch to TensorFlow 2.x.<br>\n",
       "We recommend you <a href=\"https://www.tensorflow.org/guide/migrate\" target=\"_blank\">upgrade</a> now \n",
       "or ensure your notebook will continue to use TensorFlow 1.x via the <code>%tensorflow_version 1.x</code> magic:\n",
       "<a href=\"https://colab.research.google.com/notebooks/tensorflow_version.ipynb\" target=\"_blank\">more info</a>.</p>\n"
      ],
      "text/plain": [
       "<IPython.core.display.HTML object>"
      ]
     },
     "metadata": {
      "tags": []
     },
     "output_type": "display_data"
    }
   ],
   "source": [
    "from keras.applications.mobilenet_v2 import MobileNetV2\n",
    "from keras.datasets import cifar10\n",
    "import os, cv2, numpy as np"
   ]
  },
  {
   "cell_type": "code",
   "execution_count": 5,
   "metadata": {
    "colab": {
     "base_uri": "https://localhost:8080/",
     "height": 487
    },
    "colab_type": "code",
    "executionInfo": {
     "elapsed": 17527,
     "status": "ok",
     "timestamp": 1576185171304,
     "user": {
      "displayName": "AMITH NANDAKUMAR",
      "photoUrl": "",
      "userId": "11280641326261564542"
     },
     "user_tz": 240
    },
    "id": "kX0neQvBovzA",
    "outputId": "80c8f2c2-67e1-45d1-ab97-450f8730c82d"
   },
   "outputs": [
    {
     "name": "stdout",
     "output_type": "stream",
     "text": [
      "Downloading data from https://www.cs.toronto.edu/~kriz/cifar-10-python.tar.gz\n",
      "170500096/170498071 [==============================] - 4s 0us/step\n",
      "WARNING:tensorflow:From /usr/local/lib/python3.6/dist-packages/keras/backend/tensorflow_backend.py:66: The name tf.get_default_graph is deprecated. Please use tf.compat.v1.get_default_graph instead.\n",
      "\n",
      "WARNING:tensorflow:From /usr/local/lib/python3.6/dist-packages/keras/backend/tensorflow_backend.py:541: The name tf.placeholder is deprecated. Please use tf.compat.v1.placeholder instead.\n",
      "\n",
      "WARNING:tensorflow:From /usr/local/lib/python3.6/dist-packages/keras/backend/tensorflow_backend.py:4432: The name tf.random_uniform is deprecated. Please use tf.random.uniform instead.\n",
      "\n",
      "WARNING:tensorflow:From /usr/local/lib/python3.6/dist-packages/keras/backend/tensorflow_backend.py:190: The name tf.get_default_session is deprecated. Please use tf.compat.v1.get_default_session instead.\n",
      "\n",
      "WARNING:tensorflow:From /usr/local/lib/python3.6/dist-packages/keras/backend/tensorflow_backend.py:197: The name tf.ConfigProto is deprecated. Please use tf.compat.v1.ConfigProto instead.\n",
      "\n",
      "WARNING:tensorflow:From /usr/local/lib/python3.6/dist-packages/keras/backend/tensorflow_backend.py:203: The name tf.Session is deprecated. Please use tf.compat.v1.Session instead.\n",
      "\n",
      "WARNING:tensorflow:From /usr/local/lib/python3.6/dist-packages/keras/backend/tensorflow_backend.py:207: The name tf.global_variables is deprecated. Please use tf.compat.v1.global_variables instead.\n",
      "\n",
      "WARNING:tensorflow:From /usr/local/lib/python3.6/dist-packages/keras/backend/tensorflow_backend.py:216: The name tf.is_variable_initialized is deprecated. Please use tf.compat.v1.is_variable_initialized instead.\n",
      "\n",
      "WARNING:tensorflow:From /usr/local/lib/python3.6/dist-packages/keras/backend/tensorflow_backend.py:223: The name tf.variables_initializer is deprecated. Please use tf.compat.v1.variables_initializer instead.\n",
      "\n",
      "WARNING:tensorflow:From /usr/local/lib/python3.6/dist-packages/keras/backend/tensorflow_backend.py:2041: The name tf.nn.fused_batch_norm is deprecated. Please use tf.compat.v1.nn.fused_batch_norm instead.\n",
      "\n",
      "WARNING:tensorflow:From /usr/local/lib/python3.6/dist-packages/keras/backend/tensorflow_backend.py:148: The name tf.placeholder_with_default is deprecated. Please use tf.compat.v1.placeholder_with_default instead.\n",
      "\n"
     ]
    }
   ],
   "source": [
    "(x_train, y_train), (x_test, y_test) = cifar10.load_data()\n",
    "mnv2_clr = MobileNetV2(input_shape = (32,32,3), weights = None, classes=10)\n",
    "mnv2_bw = MobileNetV2(input_shape = (32,32,1), weights = None, classes=10)"
   ]
  },
  {
   "cell_type": "code",
   "execution_count": null,
   "metadata": {
    "colab": {},
    "colab_type": "code",
    "id": "K54PybIeo-kF"
   },
   "outputs": [],
   "source": [
    "def get_bw(clr_img):\n",
    "    return np.expand_dims(cv2.cvtColor(clr_img, cv2.COLOR_BGR2GRAY), axis=-1)\n",
    "\n",
    "def get_bw_data(x_train):\n",
    "    return np.array([get_bw(i) for i in x_train])"
   ]
  },
  {
   "cell_type": "code",
   "execution_count": null,
   "metadata": {
    "colab": {},
    "colab_type": "code",
    "id": "jtwziFB0pFTp"
   },
   "outputs": [],
   "source": [
    "# normalization\n",
    "x_train = x_train.astype('float32')\n",
    "x_test = x_test.astype('float32')\n",
    "x_train /= 255\n",
    "x_test /= 255\n",
    "\n",
    "x_train_g, x_test_g = get_bw_data(x_train), get_bw_data(x_test)\n",
    "\n",
    "# alt opt\n",
    "# opt = keras.optimizers.RMSprop(learning_rate=0.0001, decay=1e-6)\n",
    "\n",
    "# y_train = keras.utils.to_categorical(y_train, num_classes)\n",
    "# y_test = keras.utils.to_categorical(y_test, num_classes)\n",
    "\n",
    "classed_id = {'airplane' : 0, 'automobile' : 1, 'bird' : 2, 'cat' : 3, 'deer' : 4, 'dog' : 5, 'frog' : 6, 'horse' : 7, 'ship' : 8, 'truck' : 9}"
   ]
  },
  {
   "cell_type": "code",
   "execution_count": null,
   "metadata": {
    "colab": {},
    "colab_type": "code",
    "id": "pyfjK5iJpIZ3"
   },
   "outputs": [],
   "source": [
    "def train_model(model, x_train, y_train, model_fn = \"clr_amba\"):\n",
    "    model.compile(loss='sparse_categorical_crossentropy', optimizer='adam', metrics=['accuracy'])\n",
    "    model.fit(x_train, y_train, batch_size=32, epochs=50, shuffle=True, verbose=1, validation_split = 0.15)\n",
    "    model.save(\"CIFAR_\" +model_fn+ \".h5\")"
   ]
  },
  {
   "cell_type": "code",
   "execution_count": null,
   "metadata": {
    "colab": {
     "base_uri": "https://localhost:8080/",
     "height": 636
    },
    "colab_type": "code",
    "executionInfo": {
     "elapsed": 3811500,
     "status": "error",
     "timestamp": 1576124554687,
     "user": {
      "displayName": "AMITH NANDAKUMAR",
      "photoUrl": "",
      "userId": "11280641326261564542"
     },
     "user_tz": 240
    },
    "id": "GslZCVEipSYj",
    "outputId": "7e600ab5-01f9-43d3-8653-d02095d40d4d"
   },
   "outputs": [
    {
     "name": "stdout",
     "output_type": "stream",
     "text": [
      "WARNING:tensorflow:From /usr/local/lib/python3.6/dist-packages/keras/optimizers.py:793: The name tf.train.Optimizer is deprecated. Please use tf.compat.v1.train.Optimizer instead.\n",
      "\n",
      "WARNING:tensorflow:From /usr/local/lib/python3.6/dist-packages/keras/backend/tensorflow_backend.py:3622: The name tf.log is deprecated. Please use tf.math.log instead.\n",
      "\n",
      "WARNING:tensorflow:From /usr/local/lib/python3.6/dist-packages/tensorflow_core/python/ops/math_grad.py:1424: where (from tensorflow.python.ops.array_ops) is deprecated and will be removed in a future version.\n",
      "Instructions for updating:\n",
      "Use tf.where in 2.0, which has the same broadcast rule as np.where\n",
      "WARNING:tensorflow:From /usr/local/lib/python3.6/dist-packages/keras/backend/tensorflow_backend.py:1033: The name tf.assign_add is deprecated. Please use tf.compat.v1.assign_add instead.\n",
      "\n",
      "WARNING:tensorflow:From /usr/local/lib/python3.6/dist-packages/keras/backend/tensorflow_backend.py:1020: The name tf.assign is deprecated. Please use tf.compat.v1.assign instead.\n",
      "\n",
      "Train on 42500 samples, validate on 7500 samples\n",
      "Epoch 1/50\n",
      "42500/42500 [==============================] - 87s 2ms/step - loss: 1.9863 - acc: 0.2868 - val_loss: 9.9865 - val_acc: 0.1027\n",
      "Epoch 2/50\n",
      "42500/42500 [==============================] - 74s 2ms/step - loss: 1.6695 - acc: 0.4034 - val_loss: 4.9776 - val_acc: 0.2885\n",
      "Epoch 3/50\n",
      "42500/42500 [==============================] - 74s 2ms/step - loss: 1.6163 - acc: 0.4288 - val_loss: 4.0700 - val_acc: 0.2781\n",
      "Epoch 4/50\n",
      "42500/42500 [==============================] - 74s 2ms/step - loss: 1.8208 - acc: 0.3684 - val_loss: 6.8336 - val_acc: 0.1364\n",
      "Epoch 5/50\n",
      "42500/42500 [==============================] - 73s 2ms/step - loss: 1.6795 - acc: 0.3977 - val_loss: 3.4165 - val_acc: 0.2772\n",
      "Epoch 6/50\n",
      "42500/42500 [==============================] - 74s 2ms/step - loss: 1.4781 - acc: 0.4764 - val_loss: 1.9972 - val_acc: 0.4311\n",
      "Epoch 7/50\n",
      "42500/42500 [==============================] - 74s 2ms/step - loss: 1.7980 - acc: 0.3901 - val_loss: 3.4620 - val_acc: 0.1168\n",
      "Epoch 8/50\n",
      "42500/42500 [==============================] - 73s 2ms/step - loss: 1.8391 - acc: 0.3549 - val_loss: 1.9986 - val_acc: 0.3205\n",
      "Epoch 9/50\n",
      "42500/42500 [==============================] - 73s 2ms/step - loss: 1.5898 - acc: 0.4297 - val_loss: 1.8985 - val_acc: 0.3628\n",
      "Epoch 10/50\n",
      "40832/42500 [===========================>..] - ETA: 2s - loss: 1.4662 - acc: 0.4737"
     ]
    }
   ],
   "source": [
    "train_model(mnv2_clr, x_train, y_train)"
   ]
  },
  {
   "cell_type": "code",
   "execution_count": null,
   "metadata": {
    "colab": {},
    "colab_type": "code",
    "id": "ecd1HOTaWKgu"
   },
   "outputs": [],
   "source": [
    "mnv2_clr.save(\"CIFAR_clr_amba.h5\")"
   ]
  },
  {
   "cell_type": "code",
   "execution_count": null,
   "metadata": {
    "colab": {},
    "colab_type": "code",
    "id": "9UNBGG2e85dM"
   },
   "outputs": [],
   "source": []
  }
 ],
 "metadata": {
  "accelerator": "GPU",
  "colab": {
   "collapsed_sections": [],
   "name": "CIFAR_amba.ipynb",
   "provenance": [
    {
     "file_id": "1zIkXKG3FmUrlTpirjlhtS-5v3RaRg79P",
     "timestamp": 1576185086440
    }
   ]
  },
  "kernelspec": {
   "display_name": "Python 3",
   "language": "python",
   "name": "python3"
  },
  "language_info": {
   "codemirror_mode": {
    "name": "ipython",
    "version": 3
   },
   "file_extension": ".py",
   "mimetype": "text/x-python",
   "name": "python",
   "nbconvert_exporter": "python",
   "pygments_lexer": "ipython3",
   "version": "3.6.9"
  }
 },
 "nbformat": 4,
 "nbformat_minor": 4
}
